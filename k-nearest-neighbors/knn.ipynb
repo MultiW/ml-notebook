{
 "cells": [
  {
   "cell_type": "markdown",
   "metadata": {},
   "source": [
    "# K-Nearest-Neighbors Classification on Iris Dataset\n",
    "\n",
    "![iris_image](./images/iris_flower.jpg)\n",
    "_Figure 1: Iris flowers are composed of petals and sepals. Different types of irises will have different types of iris and petal sizes._\n",
    "\n",
    "Our iris dataset samples different types of irises and records their petal and sepal sizes.\n",
    "\n",
    "Each sample iris contains: sepal length, sepal width, petal length, petal width. As well as the type for the iris: Setosa, Versicolour, and Virginica.  "
   ]
  },
  {
   "cell_type": "code",
   "execution_count": 2,
   "metadata": {},
   "outputs": [
    {
     "name": "stdout",
     "output_type": "stream",
     "text": [
      "X\n",
      "[[5.1 3.5 1.4 0.2]\n",
      " [4.9 3.  1.4 0.2]\n",
      " [4.7 3.2 1.3 0.2]\n",
      " [4.6 3.1 1.5 0.2]\n",
      " [5.  3.6 1.4 0.2]]\n",
      "\n",
      "y\n",
      "[[0]\n",
      " [0]\n",
      " [0]\n",
      " [0]\n",
      " [0]]\n"
     ]
    }
   ],
   "source": [
    "from sklearn import datasets\n",
    "import numpy as np\n",
    "\n",
    "iris = datasets.load_iris()\n",
    "\n",
    "X = np.array(iris.data) # features (petal and sepal sizes)\n",
    "y = np.array(iris.target) # label (iris type)\n",
    "\n",
    "print(\"X\")\n",
    "# Each X column represent: sepal-length sepal-width petal-length petal-width\n",
    "print(X[:5, :]) # display first 5 samples (rows) of dataset\n",
    "\n",
    "print()\n",
    "\n",
    "# y values represent: 0-Setosa, 1-Versicolour, 2-Virginica\n",
    "\n",
    "print(\"y\")\n",
    "y_vert = np.array([y]).T # convert y to vertical vector\n",
    "print(y_vert[:5]) # display first 5 labels (seems like they're all Setosa irises)"
   ]
  },
  {
   "cell_type": "markdown",
   "metadata": {},
   "source": [
    "Our goal is to build a classifier (algorithm) that identifies whether an iris is a Setosa, Versicolour, or Virginica.  \n",
    "For example:\n",
    "We find an iris on the road and we want to identify it. We measure its sepal length and width, and its petal length and width. Now we give it to our classifier, which will do some computations and output an iris type.\n",
    "\n",
    "Let's understand how our classifier will work. First, we'll simplify this problem by only focusing on petal size. So suppose we identify irises only based on its pettal size."
   ]
  },
  {
   "cell_type": "code",
   "execution_count": 4,
   "metadata": {},
   "outputs": [
    {
     "data": {
      "image/png": "[encoded data removed]",
      "text/plain": [
       "<Figure size 432x288 with 1 Axes>"
      ]
     },
     "metadata": {
      "needs_background": "light"
     },
     "output_type": "display_data"
    }
   ],
   "source": [
    "import matplotlib.pyplot as plt\n",
    "\n",
    "labels = {0: \"Setosa\", 1:\"Versicolour\", 2:\"Virginica\"}\n",
    "labels_color = {0: 'red', 1:'green', 2:'blue'}\n",
    "\n",
    "# graph each iris type\n",
    "for key in labels:\n",
    "    indices = np.where(y==key)\n",
    "    plt.scatter(X[indices, 0], X[indices, 1], c=labels_color[key], label=labels[key])\n",
    "\n",
    "# label graph\n",
    "plt.legend()\n",
    "plt.xlabel('Sepal length (cm)')\n",
    "plt.ylabel('Sepal width (cm)')\n",
    "plt.show()"
   ]
  },
  {
   "cell_type": "markdown",
   "metadata": {},
   "source": [
    "The above figure represents each type of iris as a color. This figure shows the approximate petal size each iris type has.\n",
    "\n",
    "To build our classifier, we can use a simple algorithm called k-nearest-neighbors (KNN). Here's how it goes in our simplified problem:\n",
    "\n",
    "![3-nearest-neighbors](./images/3-nn.png)\n",
    "_Figure 2: This figure shows how KNN identifies an iris type. The star represents an iris to be identified._\n",
    "\n",
    "Suppose we found an iris with petal length 5.5 cm and petal width 3.7 cm and want to identify it. A KNN algorithm with $k=3$ will first locate our point $(5.5, 3.7)$, represented in the figure above as a star. It then finds the 3 nearest points, as circled in the shown above. Finally, it identifies our new iris' type based on the most popular type among its 3 neighbors. In this case, since its neighbors are all Iris Setosa, then our new iris will also be an Iris Setosa .\n",
    "\n",
    "Below is an implementation of our KNN:"
   ]
  },
  {
   "cell_type": "code",
   "execution_count": 6,
   "metadata": {},
   "outputs": [],
   "source": [
    "import numpy as np\n",
    "\n",
    "def k_nearest_neighbor(input_sample, X, y, k):\n",
    "    \"\"\"\n",
    "    Input Parameters:\n",
    "    input_sample (1D numpy array): attributes of sample to be laballed\n",
    "    X (2D numpy array): list of iris samples\n",
    "    y (1D numpy array): label for every X sample\n",
    "    k (int): k value in KNN\n",
    "    \"\"\"\n",
    "    # Calculate distances from input_sample\n",
    "    diff = X - input_sample # find difference between input_sample and data for each attribute\n",
    "    diff = np.square(diff) # square all values\n",
    "    distances = np.sum(diff, 1) # sum rows\n",
    "    \n",
    "    # Find smallest k distances\n",
    "    idx = np.argpartition(distances, k)\n",
    "    \n",
    "    # Find neighbors' most common label\n",
    "    nearest_labels = y[idx[:k]]\n",
    "    label_idx = np.bincount(nearest_labels).argmax()\n",
    "    \n",
    "    return y[label_idx]"
   ]
  },
  {
   "cell_type": "markdown",
   "metadata": {},
   "source": [
    "Let's test it out"
   ]
  },
  {
   "cell_type": "code",
   "execution_count": 7,
   "metadata": {},
   "outputs": [
    {
     "name": "stdout",
     "output_type": "stream",
     "text": [
      "Input sample's predicted label: Setosa\n"
     ]
    }
   ],
   "source": [
    "labels = {0: \"Setosa\", 1:\"Versicolour\", 2:\"Virginica\"}\n",
    "input_sample = np.array([5.5, 3.7])\n",
    "label = k_nearest_neighbor(input_sample, X[:,:2], y, 3)\n",
    "print(\"Input sample's predicted label:\", labels[label])"
   ]
  },
  {
   "cell_type": "code",
   "execution_count": null,
   "metadata": {},
   "outputs": [],
   "source": []
  }
 ],
 "metadata": {
  "kernelspec": {
   "display_name": "Python 3",
   "language": "python",
   "name": "python3"
  },
  "language_info": {
   "codemirror_mode": {
    "name": "ipython",
    "version": 3
   },
   "file_extension": ".py",
   "mimetype": "text/x-python",
   "name": "python",
   "nbconvert_exporter": "python",
   "pygments_lexer": "ipython3",
   "version": "3.7.0"
  }
 },
 "nbformat": 4,
 "nbformat_minor": 2
}
